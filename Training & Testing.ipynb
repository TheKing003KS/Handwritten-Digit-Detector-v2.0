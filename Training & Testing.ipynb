{
  "cells": [
    {
      "cell_type": "markdown",
      "metadata": {},
      "source": [
        "# Handwritten Digit Detector using Neural Networks\n",
        "\n",
        "\n",
        "# Training & Testing\n",
        "\n",
        "## This notebook contains:\n",
        "## 1. Importing the Dataset\n",
        "## 2. Pre-processing the Dataset\n",
        "## 3. Splitting the Dataset into training, validation & testing parts\n",
        "## 4. Defining the deep learning model using neural networks\n",
        "## 5. Training the model using the dataset\n",
        "## 6. Analyzing model accuracy metrics\n",
        "## 7. Saving the model for further use"
      ]
    },
    {
      "cell_type": "code",
      "execution_count": 1,
      "metadata": {
        "id": "mH6FXZQERvJl"
      },
      "outputs": [],
      "source": [
        "# Importing necessary python libs & modules\n",
        "\n",
        "import numpy as np\n",
        "import seaborn as sns\n",
        "import tensorflow as tf\n",
        "from matplotlib import pyplot as plt\n",
        "from sklearn.metrics import classification_report"
      ]
    },
    {
      "cell_type": "code",
      "execution_count": 2,
      "metadata": {
        "id": "Kl6s1wkQVJ_n"
      },
      "outputs": [],
      "source": [
        "# Importing the Dataset & Splitting it into training & testing parts\n",
        "\n",
        "objects =  tf.keras.datasets.mnist\n",
        "(x_train, y_train), (x_test, y_test) = objects.load_data()"
      ]
    },
    {
      "cell_type": "code",
      "execution_count": 3,
      "metadata": {
        "colab": {
          "base_uri": "https://localhost:8080/",
          "height": 268
        },
        "id": "oSP_V4BbVKGa",
        "outputId": "c55f38eb-9c74-4b6b-cf54-24a5f6238be8"
      },
      "outputs": [
        {
          "name": "stdout",
          "output_type": "stream",
          "text": [
            "(60000, 28, 28)\n"
          ]
        },
        {
          "data": {
            "image/png": "[encoded data removed]",
            "text/plain": [
              "<Figure size 432x288 with 9 Axes>"
            ]
          },
          "metadata": {
            "needs_background": "light"
          },
          "output_type": "display_data"
        }
      ],
      "source": [
        "# Printing sample images from dataset\n",
        "\n",
        "print(x_train.shape)\n",
        "\n",
        "for i in range(9):\n",
        "\tplt.subplot(330 + 1 + i)\n",
        "\tplt.imshow(x_train[i])"
      ]
    },
    {
      "cell_type": "code",
      "execution_count": 4,
      "metadata": {
        "id": "O6Pw9GCiVKMZ"
      },
      "outputs": [],
      "source": [
        "# Reshaping the training & testing data to make it suitable for neural network imlementation\n",
        "\n",
        "x_train  = x_train.reshape(-1, 28 * 28) / 255.0\n",
        "x_test = x_test.reshape(-1, 28 * 28) / 255.0 "
      ]
    },
    {
      "cell_type": "code",
      "execution_count": 5,
      "metadata": {
        "id": "QhN6hbbDkhnd"
      },
      "outputs": [
        {
          "name": "stdout",
          "output_type": "stream",
          "text": [
            "(50000, 784) (10000, 784)\n"
          ]
        }
      ],
      "source": [
        "# Reserving sample images for validation\n",
        "\n",
        "x_validate = x_train[-10000:]\n",
        "y_validate = y_train[-10000:]\n",
        "x_train = x_train[:-10000]\n",
        "y_train = y_train[:-10000]\n",
        "\n",
        "print(x_train.shape , x_validate.shape)"
      ]
    },
    {
      "cell_type": "code",
      "execution_count": 6,
      "metadata": {
        "id": "dTsxwl7kVzbw"
      },
      "outputs": [
        {
          "name": "stdout",
          "output_type": "stream",
          "text": [
            "Model: \"sequential\"\n",
            "_________________________________________________________________\n",
            "Layer (type)                 Output Shape              Param #   \n",
            "=================================================================\n",
            "dense (Dense)                (None, 128)               100480    \n",
            "_________________________________________________________________\n",
            "dense_1 (Dense)              (None, 64)                8256      \n",
            "_________________________________________________________________\n",
            "dense_2 (Dense)              (None, 10)                650       \n",
            "=================================================================\n",
            "Total params: 109,386\n",
            "Trainable params: 109,386\n",
            "Non-trainable params: 0\n",
            "_________________________________________________________________\n"
          ]
        }
      ],
      "source": [
        "# Defining the deep learning model using neural networks & printing its summary\n",
        "\n",
        "model = tf.keras.models.Sequential([tf.keras.layers.Dense(128, activation='relu', input_shape=(784,)), tf.keras.layers.Dense(64, activation='relu'), \n",
        "tf.keras.layers.Dense(10, activation=tf.nn.softmax)])\n",
        "\n",
        "model.compile(optimizer = 'adam', loss = 'sparse_categorical_crossentropy', metrics=['accuracy'])\n",
        "\n",
        "model.summary()"
      ]
    },
    {
      "cell_type": "code",
      "execution_count": 7,
      "metadata": {
        "colab": {
          "base_uri": "https://localhost:8080/"
        },
        "id": "_5phYxm2VzhI",
        "outputId": "abb8d3be-022a-44e4-a5e8-c6809717e3af"
      },
      "outputs": [
        {
          "name": "stdout",
          "output_type": "stream",
          "text": [
            "Epoch 1/32\n",
            "391/391 [==============================] - 1s 2ms/step - loss: 0.3724 - accuracy: 0.8959 - val_loss: 0.1773 - val_accuracy: 0.9502\n",
            "Epoch 2/32\n",
            "391/391 [==============================] - 1s 2ms/step - loss: 0.1556 - accuracy: 0.9547 - val_loss: 0.1287 - val_accuracy: 0.9642\n",
            "Epoch 3/32\n",
            "391/391 [==============================] - 1s 2ms/step - loss: 0.1091 - accuracy: 0.9673 - val_loss: 0.1086 - val_accuracy: 0.9699\n",
            "Epoch 4/32\n",
            "391/391 [==============================] - 1s 2ms/step - loss: 0.0828 - accuracy: 0.9753 - val_loss: 0.0966 - val_accuracy: 0.9715\n",
            "Epoch 5/32\n",
            "391/391 [==============================] - 1s 2ms/step - loss: 0.0646 - accuracy: 0.9805 - val_loss: 0.0885 - val_accuracy: 0.9735\n",
            "Epoch 6/32\n",
            "391/391 [==============================] - 1s 2ms/step - loss: 0.0515 - accuracy: 0.9842 - val_loss: 0.0860 - val_accuracy: 0.9750\n",
            "Epoch 7/32\n",
            "391/391 [==============================] - 1s 2ms/step - loss: 0.0422 - accuracy: 0.9877 - val_loss: 0.0832 - val_accuracy: 0.9760\n",
            "Epoch 8/32\n",
            "391/391 [==============================] - 1s 2ms/step - loss: 0.0339 - accuracy: 0.9901 - val_loss: 0.0844 - val_accuracy: 0.9752\n",
            "Epoch 9/32\n",
            "391/391 [==============================] - 1s 2ms/step - loss: 0.0279 - accuracy: 0.9919 - val_loss: 0.0878 - val_accuracy: 0.9755\n",
            "Epoch 10/32\n",
            "391/391 [==============================] - 1s 2ms/step - loss: 0.0242 - accuracy: 0.9930 - val_loss: 0.0860 - val_accuracy: 0.9759\n",
            "Epoch 11/32\n",
            "391/391 [==============================] - 1s 2ms/step - loss: 0.0199 - accuracy: 0.9941 - val_loss: 0.0926 - val_accuracy: 0.9756\n",
            "Epoch 12/32\n",
            "391/391 [==============================] - 1s 2ms/step - loss: 0.0181 - accuracy: 0.9946 - val_loss: 0.1105 - val_accuracy: 0.9733\n",
            "Epoch 13/32\n",
            "391/391 [==============================] - 1s 2ms/step - loss: 0.0147 - accuracy: 0.9956 - val_loss: 0.1033 - val_accuracy: 0.9742\n",
            "Epoch 14/32\n",
            "391/391 [==============================] - 1s 2ms/step - loss: 0.0121 - accuracy: 0.9965 - val_loss: 0.0940 - val_accuracy: 0.9768\n",
            "Epoch 15/32\n",
            "391/391 [==============================] - 1s 2ms/step - loss: 0.0110 - accuracy: 0.9966 - val_loss: 0.0925 - val_accuracy: 0.9777\n",
            "Epoch 16/32\n",
            "391/391 [==============================] - 1s 2ms/step - loss: 0.0150 - accuracy: 0.9950 - val_loss: 0.0999 - val_accuracy: 0.9752\n",
            "Epoch 17/32\n",
            "391/391 [==============================] - 1s 2ms/step - loss: 0.0088 - accuracy: 0.9975 - val_loss: 0.1024 - val_accuracy: 0.9762\n",
            "Epoch 18/32\n",
            "391/391 [==============================] - 1s 2ms/step - loss: 0.0066 - accuracy: 0.9982 - val_loss: 0.1004 - val_accuracy: 0.9789\n",
            "Epoch 19/32\n",
            "391/391 [==============================] - 1s 2ms/step - loss: 0.0057 - accuracy: 0.9985 - val_loss: 0.1113 - val_accuracy: 0.9778\n",
            "Epoch 20/32\n",
            "391/391 [==============================] - 1s 2ms/step - loss: 0.0075 - accuracy: 0.9977 - val_loss: 0.1190 - val_accuracy: 0.9740\n",
            "Epoch 21/32\n",
            "391/391 [==============================] - 1s 2ms/step - loss: 0.0131 - accuracy: 0.9957 - val_loss: 0.1170 - val_accuracy: 0.9762\n",
            "Epoch 22/32\n",
            "391/391 [==============================] - 1s 2ms/step - loss: 0.0080 - accuracy: 0.9976 - val_loss: 0.1224 - val_accuracy: 0.9751\n",
            "Epoch 23/32\n",
            "391/391 [==============================] - 1s 2ms/step - loss: 0.0063 - accuracy: 0.9979 - val_loss: 0.1206 - val_accuracy: 0.9760\n",
            "Epoch 24/32\n",
            "391/391 [==============================] - 1s 2ms/step - loss: 0.0020 - accuracy: 0.9997 - val_loss: 0.1122 - val_accuracy: 0.9796\n",
            "Epoch 25/32\n",
            "391/391 [==============================] - 1s 2ms/step - loss: 0.0013 - accuracy: 0.9998 - val_loss: 0.1080 - val_accuracy: 0.9806\n",
            "Epoch 26/32\n",
            "391/391 [==============================] - 1s 2ms/step - loss: 0.0081 - accuracy: 0.9974 - val_loss: 0.1270 - val_accuracy: 0.9747\n",
            "Epoch 27/32\n",
            "391/391 [==============================] - 1s 2ms/step - loss: 0.0109 - accuracy: 0.9962 - val_loss: 0.1267 - val_accuracy: 0.9773\n",
            "Epoch 28/32\n",
            "391/391 [==============================] - 1s 2ms/step - loss: 0.0074 - accuracy: 0.9974 - val_loss: 0.1218 - val_accuracy: 0.9789\n",
            "Epoch 29/32\n",
            "391/391 [==============================] - 1s 2ms/step - loss: 0.0047 - accuracy: 0.9985 - val_loss: 0.1360 - val_accuracy: 0.9747\n",
            "Epoch 30/32\n",
            "391/391 [==============================] - 1s 2ms/step - loss: 0.0052 - accuracy: 0.9985 - val_loss: 0.1241 - val_accuracy: 0.9780\n",
            "Epoch 31/32\n",
            "391/391 [==============================] - 1s 2ms/step - loss: 9.0177e-04 - accuracy: 0.9998 - val_loss: 0.1213 - val_accuracy: 0.9790\n",
            "Epoch 32/32\n",
            "391/391 [==============================] - 1s 2ms/step - loss: 4.3892e-04 - accuracy: 1.0000 - val_loss: 0.1233 - val_accuracy: 0.9804\n"
          ]
        }
      ],
      "source": [
        "# Fitting the training data on the defined model\n",
        "\n",
        "history = model.fit(x_train, y_train,batch_size=128, epochs=32 , validation_data=(x_validate, y_validate))"
      ]
    },
    {
      "cell_type": "code",
      "execution_count": 8,
      "metadata": {
        "colab": {
          "base_uri": "https://localhost:8080/",
          "height": 460
        },
        "id": "AsQYs9LWVzuf",
        "outputId": "98a4124d-1c0d-4aca-f2b2-71cb4b393136"
      },
      "outputs": [],
      "source": [
        "# Predicting the test data using the trained neural network\n",
        "\n",
        "prediction = model.predict(x_test)\n",
        "predict = [np.argmax(i) for i in prediction]"
      ]
    },
    {
      "cell_type": "code",
      "execution_count": 9,
      "metadata": {},
      "outputs": [
        {
          "data": {
            "text/plain": [
              "Text(69.0, 0.5, 'Truth')"
            ]
          },
          "execution_count": 9,
          "metadata": {},
          "output_type": "execute_result"
        },
        {
          "data": {
            "image/png": "[encoded data removed]",
            "text/plain": [
              "<Figure size 720x504 with 2 Axes>"
            ]
          },
          "metadata": {
            "needs_background": "light"
          },
          "output_type": "display_data"
        }
      ],
      "source": [
        "# Printing Confusion Matrix\n",
        "\n",
        "cm = tf.math.confusion_matrix(labels=y_test,predictions=predict)\n",
        "\n",
        "plt.figure(figsize = (10,7))\n",
        "sns.heatmap(cm, annot=True, fmt='d')\n",
        "plt.xlabel('Predicted')\n",
        "plt.ylabel('Truth')"
      ]
    },
    {
      "cell_type": "code",
      "execution_count": 10,
      "metadata": {
        "colab": {
          "base_uri": "https://localhost:8080/"
        },
        "id": "SZzLnXE0Y_6p",
        "outputId": "3cbe0807-abde-4260-dcb3-57a64d6db348"
      },
      "outputs": [
        {
          "name": "stdout",
          "output_type": "stream",
          "text": [
            "              precision    recall  f1-score   support\n",
            "\n",
            "           0       0.99      0.99      0.99       980\n",
            "           1       0.99      0.99      0.99      1135\n",
            "           2       0.98      0.98      0.98      1032\n",
            "           3       0.97      0.98      0.97      1010\n",
            "           4       0.98      0.97      0.98       982\n",
            "           5       0.98      0.98      0.98       892\n",
            "           6       0.99      0.99      0.99       958\n",
            "           7       0.98      0.98      0.98      1028\n",
            "           8       0.98      0.97      0.97       974\n",
            "           9       0.97      0.98      0.97      1009\n",
            "\n",
            "    accuracy                           0.98     10000\n",
            "   macro avg       0.98      0.98      0.98     10000\n",
            "weighted avg       0.98      0.98      0.98     10000\n",
            "\n"
          ]
        }
      ],
      "source": [
        "# Printing Classification Report\n",
        "\n",
        "print(classification_report(y_test, predict))"
      ]
    },
    {
      "cell_type": "code",
      "execution_count": 11,
      "metadata": {
        "id": "BUhJHFvmY_9Y"
      },
      "outputs": [],
      "source": [
        "# Saving the model for further use\n",
        "\n",
        "model.save(\"trained_model.h5\")"
      ]
    }
  ],
  "metadata": {
    "accelerator": "GPU",
    "colab": {
      "collapsed_sections": [],
      "name": "MNIST.ipynb",
      "provenance": []
    },
    "kernelspec": {
      "display_name": "Python 3",
      "name": "python3"
    },
    "language_info": {
      "name": "python"
    }
  },
  "nbformat": 4,
  "nbformat_minor": 0
}
