{
 "cells": [
  {
   "cell_type": "markdown",
   "metadata": {},
   "source": [
    "# Handwritten Digit Detector using Neural Networks\n",
    "\n",
    "\n",
    "# Desktop App GUI\n",
    "\n",
    "## This notebook contains the implementation of the desktop app gui using tkinter library of python\n",
    "## The app imports the pre-trained, tested & saved model and uses it to detect digits in images provided by the user"
   ]
  },
  {
   "cell_type": "code",
   "execution_count": 6,
   "metadata": {},
   "outputs": [],
   "source": [
    "# Importing necessary python libs & modules\n",
    "\n",
    "import cv2\n",
    "import numpy as np\n",
    "import tensorflow as tf\n",
    "import tkinter as tk\n",
    "from tkinter import filedialog as fd\n",
    "from PIL import ImageTk,Image,ImageDraw"
   ]
  },
  {
   "cell_type": "code",
   "execution_count": 7,
   "metadata": {},
   "outputs": [],
   "source": [
    "# Importing pre-saved model\n",
    "\n",
    "model = tf.keras.models.load_model('trained_model.h5')"
   ]
  },
  {
   "cell_type": "code",
   "execution_count": 8,
   "metadata": {},
   "outputs": [],
   "source": [
    "# Defining general event function for button clicks\n",
    "\n",
    "def event_function(event):\n",
    "    \n",
    "    x=event.x\n",
    "    y=event.y\n",
    "    \n",
    "    x1=x-20\n",
    "    y1=y-20\n",
    "    x2=x+20\n",
    "    y2=y+20\n",
    "\n",
    "    canvas.create_oval((x1,y1,x2,y2),fill='black')\n",
    "    draw_img.ellipse((x1,y1,x2,y2),fill='white')"
   ]
  },
  {
   "cell_type": "code",
   "execution_count": 9,
   "metadata": {},
   "outputs": [],
   "source": [
    "# Defining specific event functions for button clicks\n",
    "\n",
    "def predict():\n",
    "\n",
    "    img_vec=np.array(img)\n",
    "    img_vec=cv2.cvtColor(img_vec,cv2.COLOR_BGR2GRAY)\n",
    "    img_vec=cv2.resize(img_vec,(28,28))\n",
    "        \n",
    "    img_vec=img_vec/255.0\n",
    "    img_vec=img_vec.reshape(-1,784)\n",
    "    result=model.predict(img_vec)\n",
    "    ans=np.argmax(result,axis=1)\n",
    "    \n",
    "    label.config(text='                    Predicted Digit :  '+ str(ans[0]) + \"                \")\n",
    "\n",
    "\n",
    "def clear():\n",
    "    \n",
    "    global img, draw_img\n",
    "    canvas.delete('all')\n",
    "    draw_img=ImageDraw.Draw(img)\n",
    "    img=Image.new('RGB',(500,500),(0,0,0))    \n",
    "    label.config(text='                      Draw a Digit                        ')\n",
    "\n",
    "\n",
    "def upload():\n",
    "\n",
    "    global img , upl_img\n",
    "    path=fd.askopenfilename(filetypes=[(\"Image File\",'.jpg')])\n",
    "    img = Image.open(path)\n",
    "    upl_img = ImageTk.PhotoImage(img.resize((400,400)))\n",
    "    canvas.create_image(250,250,image= upl_img)\n",
    "    predict()"
   ]
  },
  {
   "cell_type": "code",
   "execution_count": 11,
   "metadata": {},
   "outputs": [],
   "source": [
    "# Defining app layout and design\n",
    "\n",
    "root=tk.Tk()\n",
    "root.title(\"Handwritten Digit Detector using Neural Netrorks\")\n",
    "root.resizable(height=False,width=False)\n",
    "\n",
    "label=tk.Label(root,text='                      Draw a Digit                        ',bg='#548ca8',font='Cambria 24 bold',fg='white')\n",
    "label.grid(row=0,column=0,columnspan=3)\n",
    "\n",
    "canvas=tk.Canvas(root,width=500,height=500,background='white')\n",
    "canvas.grid(row=1,column=0,columnspan=3)\n",
    "\n",
    "dummy = tk.Label(root, font = 'Cambria 7 bold' , text=\" \")\n",
    "dummy.grid(row = 2 , column = 0)\n",
    "\n",
    "upload_button=tk.Button(root,text='Upload',bg='#548ca8',fg='white',font='Cambria 20 bold',command=upload)\n",
    "upload_button.grid(row=3,column=0)\n",
    "\n",
    "predict_button=tk.Button(root,text='Predict',bg='#548ca8',fg='white',font='Cambria 20 bold',command=predict)\n",
    "predict_button.grid(row=3,column=1)\n",
    "\n",
    "clear_button=tk.Button(root,text='Clear',bg='#548ca8',fg='white',font='Cambria 20 bold',command=clear)\n",
    "clear_button.grid(row=3,column=2)\n",
    "\n",
    "dummy = tk.Label(root, font = 'Cambria 7 bold' , text=\" \")\n",
    "dummy.grid(row = 4 , column = 0)\n",
    "\n",
    "canvas.bind('<B1-Motion>',event_function)\n",
    "img=Image.new('RGB',(500,500),(0,0,0))\n",
    "draw_img=ImageDraw.Draw(img)\n",
    "\n",
    "root.mainloop()"
   ]
  }
 ],
 "metadata": {
  "language_info": {
   "name": "python"
  },
  "orig_nbformat": 4
 },
 "nbformat": 4,
 "nbformat_minor": 2
}
